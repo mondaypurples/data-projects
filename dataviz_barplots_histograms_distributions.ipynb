{
 "cells": [
  {
   "cell_type": "markdown",
   "metadata": {},
   "source": [
    "## Exploratory data visualization"
   ]
  },
  {
   "cell_type": "code",
   "execution_count": 1,
   "metadata": {},
   "outputs": [
    {
     "data": {
      "text/html": [
       "<div>\n",
       "<style scoped>\n",
       "    .dataframe tbody tr th:only-of-type {\n",
       "        vertical-align: middle;\n",
       "    }\n",
       "\n",
       "    .dataframe tbody tr th {\n",
       "        vertical-align: top;\n",
       "    }\n",
       "\n",
       "    .dataframe thead th {\n",
       "        text-align: right;\n",
       "    }\n",
       "</style>\n",
       "<table border=\"1\" class=\"dataframe\">\n",
       "  <thead>\n",
       "    <tr style=\"text-align: right;\">\n",
       "      <th></th>\n",
       "      <th>instant</th>\n",
       "      <th>dteday</th>\n",
       "      <th>season</th>\n",
       "      <th>yr</th>\n",
       "      <th>mnth</th>\n",
       "      <th>holiday</th>\n",
       "      <th>weekday</th>\n",
       "      <th>workingday</th>\n",
       "      <th>weathersit</th>\n",
       "      <th>temp</th>\n",
       "      <th>atemp</th>\n",
       "      <th>hum</th>\n",
       "      <th>windspeed</th>\n",
       "      <th>casual</th>\n",
       "      <th>registered</th>\n",
       "      <th>cnt</th>\n",
       "    </tr>\n",
       "  </thead>\n",
       "  <tbody>\n",
       "    <tr>\n",
       "      <th>0</th>\n",
       "      <td>1</td>\n",
       "      <td>2011-01-01</td>\n",
       "      <td>1</td>\n",
       "      <td>0</td>\n",
       "      <td>1</td>\n",
       "      <td>0</td>\n",
       "      <td>6</td>\n",
       "      <td>0</td>\n",
       "      <td>2</td>\n",
       "      <td>0.344167</td>\n",
       "      <td>0.363625</td>\n",
       "      <td>0.805833</td>\n",
       "      <td>0.160446</td>\n",
       "      <td>331</td>\n",
       "      <td>654</td>\n",
       "      <td>985</td>\n",
       "    </tr>\n",
       "    <tr>\n",
       "      <th>1</th>\n",
       "      <td>2</td>\n",
       "      <td>2011-01-02</td>\n",
       "      <td>1</td>\n",
       "      <td>0</td>\n",
       "      <td>1</td>\n",
       "      <td>0</td>\n",
       "      <td>0</td>\n",
       "      <td>0</td>\n",
       "      <td>2</td>\n",
       "      <td>0.363478</td>\n",
       "      <td>0.353739</td>\n",
       "      <td>0.696087</td>\n",
       "      <td>0.248539</td>\n",
       "      <td>131</td>\n",
       "      <td>670</td>\n",
       "      <td>801</td>\n",
       "    </tr>\n",
       "    <tr>\n",
       "      <th>2</th>\n",
       "      <td>3</td>\n",
       "      <td>2011-01-03</td>\n",
       "      <td>1</td>\n",
       "      <td>0</td>\n",
       "      <td>1</td>\n",
       "      <td>0</td>\n",
       "      <td>1</td>\n",
       "      <td>1</td>\n",
       "      <td>1</td>\n",
       "      <td>0.196364</td>\n",
       "      <td>0.189405</td>\n",
       "      <td>0.437273</td>\n",
       "      <td>0.248309</td>\n",
       "      <td>120</td>\n",
       "      <td>1229</td>\n",
       "      <td>1349</td>\n",
       "    </tr>\n",
       "    <tr>\n",
       "      <th>3</th>\n",
       "      <td>4</td>\n",
       "      <td>2011-01-04</td>\n",
       "      <td>1</td>\n",
       "      <td>0</td>\n",
       "      <td>1</td>\n",
       "      <td>0</td>\n",
       "      <td>2</td>\n",
       "      <td>1</td>\n",
       "      <td>1</td>\n",
       "      <td>0.200000</td>\n",
       "      <td>0.212122</td>\n",
       "      <td>0.590435</td>\n",
       "      <td>0.160296</td>\n",
       "      <td>108</td>\n",
       "      <td>1454</td>\n",
       "      <td>1562</td>\n",
       "    </tr>\n",
       "    <tr>\n",
       "      <th>4</th>\n",
       "      <td>5</td>\n",
       "      <td>2011-01-05</td>\n",
       "      <td>1</td>\n",
       "      <td>0</td>\n",
       "      <td>1</td>\n",
       "      <td>0</td>\n",
       "      <td>3</td>\n",
       "      <td>1</td>\n",
       "      <td>1</td>\n",
       "      <td>0.226957</td>\n",
       "      <td>0.229270</td>\n",
       "      <td>0.436957</td>\n",
       "      <td>0.186900</td>\n",
       "      <td>82</td>\n",
       "      <td>1518</td>\n",
       "      <td>1600</td>\n",
       "    </tr>\n",
       "  </tbody>\n",
       "</table>\n",
       "</div>"
      ],
      "text/plain": [
       "   instant      dteday  season  yr  mnth  holiday  weekday  workingday  \\\n",
       "0        1  2011-01-01       1   0     1        0        6           0   \n",
       "1        2  2011-01-02       1   0     1        0        0           0   \n",
       "2        3  2011-01-03       1   0     1        0        1           1   \n",
       "3        4  2011-01-04       1   0     1        0        2           1   \n",
       "4        5  2011-01-05       1   0     1        0        3           1   \n",
       "\n",
       "   weathersit      temp     atemp       hum  windspeed  casual  registered  \\\n",
       "0           2  0.344167  0.363625  0.805833   0.160446     331         654   \n",
       "1           2  0.363478  0.353739  0.696087   0.248539     131         670   \n",
       "2           1  0.196364  0.189405  0.437273   0.248309     120        1229   \n",
       "3           1  0.200000  0.212122  0.590435   0.160296     108        1454   \n",
       "4           1  0.226957  0.229270  0.436957   0.186900      82        1518   \n",
       "\n",
       "    cnt  \n",
       "0   985  \n",
       "1   801  \n",
       "2  1349  \n",
       "3  1562  \n",
       "4  1600  "
      ]
     },
     "execution_count": 1,
     "metadata": {},
     "output_type": "execute_result"
    }
   ],
   "source": [
    "import pandas as pd\n",
    "import matplotlib.pyplot as plt\n",
    "\n",
    "bike_sharing = pd.read_csv('/Users/brindhamanivannan/datasets/day.csv')\n",
    "bike_sharing.head()"
   ]
  },
  {
   "cell_type": "markdown",
   "metadata": {},
   "source": [
    "The workingday column describes the type of day: a working day or a non-working day (weekend or holiday). A value of 1 represents a working day, and a value of 0 represents a non-working day."
   ]
  },
  {
   "cell_type": "code",
   "execution_count": 2,
   "metadata": {},
   "outputs": [
    {
     "data": {
      "text/plain": [
       "1    500\n",
       "0    231\n",
       "Name: workingday, dtype: int64"
      ]
     },
     "execution_count": 2,
     "metadata": {},
     "output_type": "execute_result"
    }
   ],
   "source": [
    "bike_sharing['workingday'].value_counts()"
   ]
  },
  {
   "cell_type": "code",
   "execution_count": 3,
   "metadata": {},
   "outputs": [
    {
     "data": {
      "text/plain": [
       "casual       -0.518044\n",
       "registered    0.303907\n",
       "Name: workingday, dtype: float64"
      ]
     },
     "execution_count": 3,
     "metadata": {},
     "output_type": "execute_result"
    }
   ],
   "source": [
    "bike_sharing.corr()['workingday'][['casual', 'registered']]"
   ]
  },
  {
   "cell_type": "markdown",
   "metadata": {},
   "source": [
    "The casual and registered columns show us the number of bikes rented by casual and registered users each day.\n",
    "\n",
    "The workingday column correlates negatively with the casual column and positively correlates with the registered column. These values suggest that registered users tend to use the bikes more on working days — to commute to work probably. On the other side, casual users tend to rent the bikes more on the weekends and holidays — probably for some leisure time."
   ]
  },
  {
   "cell_type": "markdown",
   "metadata": {},
   "source": [
    "To corroborate or disprove these observations, we'll calculate the average number of rentals for casual and registered users on working and non-working days."
   ]
  },
  {
   "cell_type": "code",
   "execution_count": 4,
   "metadata": {},
   "outputs": [],
   "source": [
    "non_working_day = bike_sharing[bike_sharing['workingday'] == 0]"
   ]
  },
  {
   "cell_type": "code",
   "execution_count": 5,
   "metadata": {},
   "outputs": [
    {
     "data": {
      "text/plain": [
       "(231, 16)"
      ]
     },
     "execution_count": 5,
     "metadata": {},
     "output_type": "execute_result"
    }
   ],
   "source": [
    "non_working_day.shape"
   ]
  },
  {
   "cell_type": "code",
   "execution_count": 6,
   "metadata": {},
   "outputs": [
    {
     "data": {
      "text/plain": [
       "(731, 16)"
      ]
     },
     "execution_count": 6,
     "metadata": {},
     "output_type": "execute_result"
    }
   ],
   "source": [
    "bike_sharing.shape"
   ]
  },
  {
   "cell_type": "code",
   "execution_count": 7,
   "metadata": {},
   "outputs": [
    {
     "data": {
      "text/plain": [
       "(500, 16)"
      ]
     },
     "execution_count": 7,
     "metadata": {},
     "output_type": "execute_result"
    }
   ],
   "source": [
    "working_days = bike_sharing[bike_sharing['workingday'] == 1]\n",
    "working_days.shape"
   ]
  },
  {
   "cell_type": "code",
   "execution_count": 11,
   "metadata": {},
   "outputs": [
    {
     "data": {
      "text/plain": [
       "1371.1341991341992"
      ]
     },
     "execution_count": 11,
     "metadata": {},
     "output_type": "execute_result"
    }
   ],
   "source": [
    "non_working_day['casual'].mean()"
   ]
  },
  {
   "cell_type": "code",
   "execution_count": 12,
   "metadata": {},
   "outputs": [
    {
     "data": {
      "text/plain": [
       "2959.034632034632"
      ]
     },
     "execution_count": 12,
     "metadata": {},
     "output_type": "execute_result"
    }
   ],
   "source": [
    "non_working_day['registered'].mean()"
   ]
  },
  {
   "cell_type": "code",
   "execution_count": 13,
   "metadata": {},
   "outputs": [
    {
     "data": {
      "text/plain": [
       "606.57"
      ]
     },
     "execution_count": 13,
     "metadata": {},
     "output_type": "execute_result"
    }
   ],
   "source": [
    "working_days['casual'].mean()"
   ]
  },
  {
   "cell_type": "code",
   "execution_count": 14,
   "metadata": {},
   "outputs": [
    {
     "data": {
      "text/plain": [
       "3978.25"
      ]
     },
     "execution_count": 14,
     "metadata": {},
     "output_type": "execute_result"
    }
   ],
   "source": [
    "working_days['registered'].mean()"
   ]
  },
  {
   "cell_type": "markdown",
   "metadata": {},
   "source": [
    "## Bar plots"
   ]
  },
  {
   "cell_type": "code",
   "execution_count": 15,
   "metadata": {},
   "outputs": [
    {
     "data": {
      "image/png": "[encoded data removed]",
      "text/plain": [
       "<Figure size 432x288 with 1 Axes>"
      ]
     },
     "metadata": {
      "needs_background": "light"
     },
     "output_type": "display_data"
    }
   ],
   "source": [
    "import matplotlib.pyplot as plt\n",
    "\n",
    "working_days = ['Non-Working Days', 'Working Days']\n",
    "casual_avg = [1371, 607]\n",
    "\n",
    "plt.bar(working_days, casual_avg)\n",
    "plt.show()"
   ]
  },
  {
   "cell_type": "code",
   "execution_count": 16,
   "metadata": {},
   "outputs": [
    {
     "data": {
      "image/png": "[encoded data removed]",
      "text/plain": [
       "<Figure size 432x288 with 1 Axes>"
      ]
     },
     "metadata": {
      "needs_background": "light"
     },
     "output_type": "display_data"
    }
   ],
   "source": [
    "import matplotlib.pyplot as plt\n",
    "working_days = ['Non-Working Days', 'Working Days']\n",
    "registered_avg = [2959, 3978]\n",
    "\n",
    "plt.bar(working_days, registered_avg)\n",
    "plt.show()"
   ]
  },
  {
   "cell_type": "markdown",
   "metadata": {},
   "source": [
    "## Customizing bar plots"
   ]
  },
  {
   "cell_type": "markdown",
   "metadata": {},
   "source": [
    "We'll also take a more granular approach to analyzing the data and examine the average number of rentals for casual and registered users based on the day of the week (Monday, Tuesday, Wednesday, etc.)"
   ]
  },
  {
   "cell_type": "code",
   "execution_count": 17,
   "metadata": {},
   "outputs": [
    {
     "data": {
      "text/plain": [
       "0    105\n",
       "1    105\n",
       "2    104\n",
       "3    104\n",
       "4    104\n",
       "5    104\n",
       "6    105\n",
       "Name: weekday, dtype: int64"
      ]
     },
     "execution_count": 17,
     "metadata": {},
     "output_type": "execute_result"
    }
   ],
   "source": [
    "# We use Series.sort_index() to sort the index in an ascending order\n",
    "bike_sharing['weekday'].value_counts().sort_index()\n"
   ]
  },
  {
   "cell_type": "code",
   "execution_count": 20,
   "metadata": {},
   "outputs": [
    {
     "name": "stdout",
     "output_type": "stream",
     "text": [
      "1338.2952380952381\n",
      "2890.5333333333333\n"
     ]
    }
   ],
   "source": [
    "zero = bike_sharing[bike_sharing['weekday'] == 0]\n",
    "print(zero['casual'].mean())\n",
    "print(zero['registered'].mean())"
   ]
  },
  {
   "cell_type": "code",
   "execution_count": null,
   "metadata": {},
   "outputs": [],
   "source": [
    "# weekday_averages\n",
    "\n",
    "weekday,casual,registred\n",
    "0,1338.295238,2890.533333\n",
    "1,674.133333,3663.990476\n",
    "2,556.182692,3954.480769\n",
    "3,551.144231,3997.394231\n",
    "4,590.961538,4076.298077\n",
    "5,752.288462,3938.000000\n",
    "6,1465.257143,3085.285714\n",
    "\n"
   ]
  },
  {
   "cell_type": "code",
   "execution_count": 25,
   "metadata": {},
   "outputs": [
    {
     "data": {
      "text/html": [
       "<div>\n",
       "<style scoped>\n",
       "    .dataframe tbody tr th:only-of-type {\n",
       "        vertical-align: middle;\n",
       "    }\n",
       "\n",
       "    .dataframe tbody tr th {\n",
       "        vertical-align: top;\n",
       "    }\n",
       "\n",
       "    .dataframe thead th {\n",
       "        text-align: right;\n",
       "    }\n",
       "</style>\n",
       "<table border=\"1\" class=\"dataframe\">\n",
       "  <thead>\n",
       "    <tr style=\"text-align: right;\">\n",
       "      <th></th>\n",
       "      <th>weekday</th>\n",
       "      <th>casual</th>\n",
       "      <th>registered</th>\n",
       "    </tr>\n",
       "  </thead>\n",
       "  <tbody>\n",
       "    <tr>\n",
       "      <th>0</th>\n",
       "      <td>0</td>\n",
       "      <td>1338.295238</td>\n",
       "      <td>2890.533333</td>\n",
       "    </tr>\n",
       "    <tr>\n",
       "      <th>1</th>\n",
       "      <td>1</td>\n",
       "      <td>674.133333</td>\n",
       "      <td>3663.990476</td>\n",
       "    </tr>\n",
       "    <tr>\n",
       "      <th>2</th>\n",
       "      <td>2</td>\n",
       "      <td>556.182692</td>\n",
       "      <td>3954.480769</td>\n",
       "    </tr>\n",
       "    <tr>\n",
       "      <th>3</th>\n",
       "      <td>3</td>\n",
       "      <td>551.144231</td>\n",
       "      <td>3997.394231</td>\n",
       "    </tr>\n",
       "    <tr>\n",
       "      <th>4</th>\n",
       "      <td>4</td>\n",
       "      <td>590.961538</td>\n",
       "      <td>4076.298077</td>\n",
       "    </tr>\n",
       "    <tr>\n",
       "      <th>5</th>\n",
       "      <td>5</td>\n",
       "      <td>752.288462</td>\n",
       "      <td>3938.000000</td>\n",
       "    </tr>\n",
       "    <tr>\n",
       "      <th>6</th>\n",
       "      <td>6</td>\n",
       "      <td>1465.257143</td>\n",
       "      <td>3085.285714</td>\n",
       "    </tr>\n",
       "  </tbody>\n",
       "</table>\n",
       "</div>"
      ],
      "text/plain": [
       "   weekday       casual   registered\n",
       "0        0  1338.295238  2890.533333\n",
       "1        1   674.133333  3663.990476\n",
       "2        2   556.182692  3954.480769\n",
       "3        3   551.144231  3997.394231\n",
       "4        4   590.961538  4076.298077\n",
       "5        5   752.288462  3938.000000\n",
       "6        6  1465.257143  3085.285714"
      ]
     },
     "execution_count": 25,
     "metadata": {},
     "output_type": "execute_result"
    }
   ],
   "source": [
    "weekday_avg = bike_sharing.groupby('weekday').mean()[['casual', 'registered']].reset_index()\n",
    "weekday_avg"
   ]
  },
  {
   "cell_type": "code",
   "execution_count": 27,
   "metadata": {},
   "outputs": [
    {
     "data": {
      "image/png": "[encoded data removed]",
      "text/plain": [
       "<Figure size 432x288 with 1 Axes>"
      ]
     },
     "metadata": {
      "needs_background": "light"
     },
     "output_type": "display_data"
    }
   ],
   "source": [
    "plt.barh(weekday_avg['weekday'], weekday_avg['casual'])\n",
    "plt.yticks(ticks=[0, 1, 2, 3, 4, 5, 6],\n",
    "          labels=['Sunday', 'Monday', 'Tuesday', 'Wednesday',\n",
    "                 'Thursday', 'Friday', 'Saturday'])\n",
    "plt.show()"
   ]
  },
  {
   "cell_type": "code",
   "execution_count": 28,
   "metadata": {},
   "outputs": [
    {
     "data": {
      "image/png": "[encoded data removed]",
      "text/plain": [
       "<Figure size 432x288 with 1 Axes>"
      ]
     },
     "metadata": {
      "needs_background": "light"
     },
     "output_type": "display_data"
    }
   ],
   "source": [
    "plt.bar(weekday_avg['weekday'], weekday_avg['casual'])\n",
    "plt.xticks(ticks=[0, 1, 2, 3, 4, 5, 6],\n",
    "          labels=['Sunday', 'Monday', 'Tuesday', 'Wednesday',\n",
    "                 'Thursday', 'Friday', 'Saturday'],\n",
    "          rotation=30)\n",
    "plt.show()"
   ]
  },
  {
   "cell_type": "code",
   "execution_count": 29,
   "metadata": {},
   "outputs": [
    {
     "data": {
      "image/png": "[encoded data removed]",
      "text/plain": [
       "<Figure size 432x288 with 1 Axes>"
      ]
     },
     "metadata": {
      "needs_background": "light"
     },
     "output_type": "display_data"
    }
   ],
   "source": [
    "plt.bar(weekday_avg['weekday'], weekday_avg['registered'])\n",
    "plt.xticks(ticks=[0, 1, 2, 3, 4, 5, 6],\n",
    "          labels=['Sunday', 'Monday', 'Tuesday', 'Wednesday',\n",
    "                 'Thursday', 'Friday', 'Saturday'],\n",
    "          rotation=30)\n",
    "plt.show()"
   ]
  },
  {
   "cell_type": "code",
   "execution_count": 30,
   "metadata": {},
   "outputs": [
    {
     "data": {
      "image/png": "[encoded data removed]",
      "text/plain": [
       "<Figure size 432x288 with 1 Axes>"
      ]
     },
     "metadata": {
      "needs_background": "light"
     },
     "output_type": "display_data"
    }
   ],
   "source": [
    "plt.barh(weekday_avg['weekday'], weekday_avg['registered'])\n",
    "plt.xticks(ticks=[0, 1, 2, 3, 4, 5, 6],\n",
    "          labels=['Sunday', 'Monday', 'Tuesday', 'Wednesday',\n",
    "                 'Thursday', 'Friday', 'Saturday'],\n",
    "          rotation=30)\n",
    "plt.show()"
   ]
  },
  {
   "cell_type": "markdown",
   "metadata": {},
   "source": [
    "## Frequency tables"
   ]
  },
  {
   "cell_type": "code",
   "execution_count": 32,
   "metadata": {},
   "outputs": [
    {
     "data": {
      "text/plain": [
       "1    463\n",
       "2    247\n",
       "3     21\n",
       "Name: weathersit, dtype: int64"
      ]
     },
     "execution_count": 32,
     "metadata": {},
     "output_type": "execute_result"
    }
   ],
   "source": [
    "bike_sharing['weathersit'].value_counts()"
   ]
  },
  {
   "cell_type": "markdown",
   "metadata": {},
   "source": [
    "Column weathersit describes the daily weather type.\n",
    "\n",
    "We only see three unique values above, but, according to the documentation, the weathersit column has four unique values (4 has a frequency of zero as a consequence):\n",
    "\n",
    "1: clear or few clouds\n",
    "\n",
    "2: mist or cloudy\n",
    "\n",
    "3: light rain, light snow, thunderstorm\n",
    "\n",
    "4: heavy rain, snow, ice pellets, fog"
   ]
  },
  {
   "cell_type": "markdown",
   "metadata": {},
   "source": [
    "The best way to visualize a frequency table is by using a bar plot."
   ]
  },
  {
   "cell_type": "code",
   "execution_count": 33,
   "metadata": {},
   "outputs": [
    {
     "data": {
      "image/png": "[encoded data removed]",
      "text/plain": [
       "<Figure size 432x288 with 1 Axes>"
      ]
     },
     "metadata": {
      "needs_background": "light"
     },
     "output_type": "display_data"
    }
   ],
   "source": [
    "weather_types = [1, 2, 3, 4]\n",
    "frequencies = [463, 247, 21, 0]\n",
    "plt.bar(weather_types, frequencies)\n",
    "plt.show()"
   ]
  },
  {
   "cell_type": "markdown",
   "metadata": {},
   "source": [
    "Bar plots work especially well for visualizing frequency tables when the number of unique values is low.\n",
    "\n",
    "If there are many unique values, then the bar plot looks too crowded, and it becomes more difficult to see any pattern.\n",
    "\n",
    "Bar plots work well when generating the frequency tables for categorical columns. For numerical columns, we need to use a histogram"
   ]
  },
  {
   "cell_type": "code",
   "execution_count": 34,
   "metadata": {},
   "outputs": [
    {
     "data": {
      "image/png": "[encoded data removed]",
      "text/plain": [
       "<Figure size 432x288 with 1 Axes>"
      ]
     },
     "metadata": {
      "needs_background": "light"
     },
     "output_type": "display_data"
    },
    {
     "data": {
      "image/png": "[encoded data removed]",
      "text/plain": [
       "<Figure size 432x288 with 1 Axes>"
      ]
     },
     "metadata": {
      "needs_background": "light"
     },
     "output_type": "display_data"
    }
   ],
   "source": [
    "import matplotlib.pyplot as plt\n",
    "\n",
    "unique_values = [1, 2, 3, 4]\n",
    "weather_2011 = [226, 124, 15, 0]\n",
    "weather_2012 = [237, 123, 6, 0]\n",
    "\n",
    "plt.bar(unique_values, weather_2011)\n",
    "plt.xticks(ticks=[1,2,3,4])\n",
    "plt.title('Weather Patterns: 2011')\n",
    "plt.ylabel('Frequency')\n",
    "plt.xlabel('Unique Values')\n",
    "plt.show()\n",
    "\n",
    "plt.bar(unique_values, weather_2012)\n",
    "plt.xticks(ticks=[1,2,3,4])\n",
    "plt.title('Weather Patterns: 2012')\n",
    "plt.ylabel('Frequency')\n",
    "plt.xlabel('Unique Values')\n",
    "plt.show()"
   ]
  },
  {
   "cell_type": "markdown",
   "metadata": {},
   "source": [
    "## Grouped frequency tables"
   ]
  },
  {
   "cell_type": "code",
   "execution_count": 35,
   "metadata": {},
   "outputs": [
    {
     "data": {
      "text/plain": [
       "5119    2\n",
       "4401    2\n",
       "1977    2\n",
       "6824    2\n",
       "5191    2\n",
       "       ..\n",
       "6273    1\n",
       "5501    1\n",
       "4760    1\n",
       "1683    1\n",
       "4097    1\n",
       "Name: cnt, Length: 696, dtype: int64"
      ]
     },
     "execution_count": 35,
     "metadata": {},
     "output_type": "execute_result"
    }
   ],
   "source": [
    "bike_sharing['cnt'].value_counts()"
   ]
  },
  {
   "cell_type": "markdown",
   "metadata": {},
   "source": [
    "Column cnt has 696 unique values and if we generate a frequency table for the cnt column (which describes the total number of bike rentals), it's almost impossible to distinguish any pattern. \n",
    "\n",
    "To solve this problem, we can group the unique values into equal intervals. "
   ]
  },
  {
   "cell_type": "code",
   "execution_count": 36,
   "metadata": {},
   "outputs": [
    {
     "data": {
      "text/plain": [
       "(4368.0, 5237.2]    137\n",
       "(3498.8, 4368.0]    122\n",
       "(5237.2, 6106.4]     81\n",
       "(6975.6, 7844.8]     79\n",
       "(6106.4, 6975.6]     76\n",
       "(2629.6, 3498.8]     73\n",
       "(1760.4, 2629.6]     71\n",
       "(891.2, 1760.4]      62\n",
       "(7844.8, 8714.0]     17\n",
       "(13.307, 891.2]      13\n",
       "Name: cnt, dtype: int64"
      ]
     },
     "execution_count": 36,
     "metadata": {},
     "output_type": "execute_result"
    }
   ],
   "source": [
    "bike_sharing['cnt'].value_counts(bins=10)"
   ]
  },
  {
   "cell_type": "markdown",
   "metadata": {},
   "source": [
    "The unique values are now number intervals. (4368.0, 5237.2] is a number interval. The ( character indicates that the starting number is not included, while the ] indicates that the ending number is included. The interval (4368.0, 5237.2] contains all numbers greater than 4368.0 and less than or equal to 5237.2.\n",
    "\n"
   ]
  },
  {
   "cell_type": "code",
   "execution_count": 37,
   "metadata": {},
   "outputs": [
    {
     "data": {
      "text/plain": [
       "(13.307, 891.2]      13\n",
       "(891.2, 1760.4]      62\n",
       "(1760.4, 2629.6]     71\n",
       "(2629.6, 3498.8]     73\n",
       "(3498.8, 4368.0]    122\n",
       "(4368.0, 5237.2]    137\n",
       "(5237.2, 6106.4]     81\n",
       "(6106.4, 6975.6]     76\n",
       "(6975.6, 7844.8]     79\n",
       "(7844.8, 8714.0]     17\n",
       "Name: cnt, dtype: int64"
      ]
     },
     "execution_count": 37,
     "metadata": {},
     "output_type": "execute_result"
    }
   ],
   "source": [
    "bike_sharing['cnt'].value_counts(bins=10).sort_index()"
   ]
  },
  {
   "cell_type": "markdown",
   "metadata": {},
   "source": [
    "As a side note, the number of intervals in a grouped frequency table can vary — we can have 5, 6, 7, 10, 15, etc. Generally, 10 intervals is a good choice because it offers a good balance between information and comprehension."
   ]
  },
  {
   "cell_type": "code",
   "execution_count": 38,
   "metadata": {},
   "outputs": [
    {
     "name": "stdout",
     "output_type": "stream",
     "text": [
      "<class 'pandas.core.frame.DataFrame'>\n",
      "RangeIndex: 731 entries, 0 to 730\n",
      "Data columns (total 16 columns):\n",
      " #   Column      Non-Null Count  Dtype  \n",
      "---  ------      --------------  -----  \n",
      " 0   instant     731 non-null    int64  \n",
      " 1   dteday      731 non-null    object \n",
      " 2   season      731 non-null    int64  \n",
      " 3   yr          731 non-null    int64  \n",
      " 4   mnth        731 non-null    int64  \n",
      " 5   holiday     731 non-null    int64  \n",
      " 6   weekday     731 non-null    int64  \n",
      " 7   workingday  731 non-null    int64  \n",
      " 8   weathersit  731 non-null    int64  \n",
      " 9   temp        731 non-null    float64\n",
      " 10  atemp       731 non-null    float64\n",
      " 11  hum         731 non-null    float64\n",
      " 12  windspeed   731 non-null    float64\n",
      " 13  casual      731 non-null    int64  \n",
      " 14  registered  731 non-null    int64  \n",
      " 15  cnt         731 non-null    int64  \n",
      "dtypes: float64(4), int64(11), object(1)\n",
      "memory usage: 91.5+ KB\n"
     ]
    }
   ],
   "source": [
    "bike_sharing.info()"
   ]
  },
  {
   "cell_type": "code",
   "execution_count": 39,
   "metadata": {},
   "outputs": [],
   "source": [
    "bike_sharing['dteday'] = pd.to_datetime(bike_sharing['dteday'])\n"
   ]
  },
  {
   "cell_type": "code",
   "execution_count": 40,
   "metadata": {},
   "outputs": [
    {
     "data": {
      "text/plain": [
       "(13.073, 712.6]      14\n",
       "(712.6, 1405.2]      44\n",
       "(1405.2, 2097.8]     79\n",
       "(2097.8, 2790.4]     80\n",
       "(2790.4, 3483.0]    113\n",
       "(3483.0, 4175.6]    144\n",
       "(4175.6, 4868.2]     85\n",
       "(4868.2, 5560.8]     71\n",
       "(5560.8, 6253.4]     57\n",
       "(6253.4, 6946.0]     44\n",
       "Name: registered, dtype: int64"
      ]
     },
     "execution_count": 40,
     "metadata": {},
     "output_type": "execute_result"
    }
   ],
   "source": [
    "registered_freq = bike_sharing['registered'].value_counts(bins=10).sort_index()\n",
    "registered_freq"
   ]
  },
  {
   "cell_type": "code",
   "execution_count": 41,
   "metadata": {},
   "outputs": [
    {
     "data": {
      "text/plain": [
       "(-1.4089999999999998, 342.8]    204\n",
       "(342.8, 683.6]                  144\n",
       "(683.6, 1024.4]                 165\n",
       "(1024.4, 1365.2]                 89\n",
       "(1365.2, 1706.0]                 44\n",
       "(1706.0, 2046.8]                 23\n",
       "(2046.8, 2387.6]                 26\n",
       "(2387.6, 2728.4]                 22\n",
       "(2728.4, 3069.2]                  9\n",
       "(3069.2, 3410.0]                  5\n",
       "Name: casual, dtype: int64"
      ]
     },
     "execution_count": 41,
     "metadata": {},
     "output_type": "execute_result"
    }
   ],
   "source": [
    "casual_freq = bike_sharing['casual'].value_counts(bins=10).sort_index()\n",
    "casual_freq"
   ]
  },
  {
   "cell_type": "markdown",
   "metadata": {},
   "source": [
    "## Histogram"
   ]
  },
  {
   "cell_type": "markdown",
   "metadata": {},
   "source": [
    "The best way to visualize a grouped frequency table is by using a histogram. "
   ]
  },
  {
   "cell_type": "code",
   "execution_count": 42,
   "metadata": {},
   "outputs": [
    {
     "data": {
      "text/plain": [
       "(13.307, 891.2]      13\n",
       "(891.2, 1760.4]      62\n",
       "(1760.4, 2629.6]     71\n",
       "(2629.6, 3498.8]     73\n",
       "(3498.8, 4368.0]    122\n",
       "(4368.0, 5237.2]    137\n",
       "(5237.2, 6106.4]     81\n",
       "(6106.4, 6975.6]     76\n",
       "(6975.6, 7844.8]     79\n",
       "(7844.8, 8714.0]     17\n",
       "Name: cnt, dtype: int64"
      ]
     },
     "execution_count": 42,
     "metadata": {},
     "output_type": "execute_result"
    }
   ],
   "source": [
    "bike_sharing['cnt'].value_counts(bins=10).sort_index()"
   ]
  },
  {
   "cell_type": "code",
   "execution_count": 43,
   "metadata": {},
   "outputs": [
    {
     "data": {
      "image/png": "[encoded data removed]",
      "text/plain": [
       "<Figure size 432x288 with 1 Axes>"
      ]
     },
     "metadata": {
      "needs_background": "light"
     },
     "output_type": "display_data"
    }
   ],
   "source": [
    "plt.hist(bike_sharing['cnt'])\n",
    "plt.show()"
   ]
  },
  {
   "cell_type": "markdown",
   "metadata": {},
   "source": [
    "Notice that all we needed to pass to plt.hist() was the cnt column (not the grouped frequency table).\n",
    "\n",
    "Behind the curtains, the plt.hist() function did the following:\n",
    "\n",
    "Generated a grouped frequency table with ten equal intervals for the cnt column.\n",
    "Plotted a bar for each interval (ten intervals means ten bars). The height of each bar corresponds to the frequency of its corresponding interval.\n",
    "\n",
    "A histogram is a modified bar plot — the main visual difference is that there are no gaps between bars.\n",
    "\n",
    "Another equally-important difference is that each bar represents an interval, not a single value.\n",
    "\n",
    "Looking at the histogram we generated for the cnt column, we can make a few quick observations about the following:\n",
    "\n",
    "- Range: Over the two years (2011 and 2012), the values ranged between 0 and 9,000 bike rentals.\n",
    "\n",
    "- The distribution of the bike rentals:\n",
    "\n",
    "1. Most typically, the number of bike rentals per day varies between 4,500 and 5,000 — the tallest bar is around that interval. The height of that bar indicates that we had about 140 days when rentals were between 4,500 and 5,000.\n",
    "2. For most days, the number of rentals ranges between 1,000 and 7,500 — we see the tallest bars around this larger interval.\n",
    "3. Most uncommonly, the number of rentals per day goes under 1,000 or over 8,000 — the bars are short around these values, with a frequency of 20 or less.\n",
    "\n",
    "Histograms are one of the most common graphs we use in exploratory data visualization. They quickly show us the distribution of the values, which in turn can suggest important patterns."
   ]
  },
  {
   "cell_type": "code",
   "execution_count": 44,
   "metadata": {},
   "outputs": [
    {
     "data": {
      "image/png": "[encoded data removed]",
      "text/plain": [
       "<Figure size 432x288 with 1 Axes>"
      ]
     },
     "metadata": {
      "needs_background": "light"
     },
     "output_type": "display_data"
    }
   ],
   "source": [
    "plt.hist(bike_sharing['casual'])\n",
    "plt.show()"
   ]
  },
  {
   "cell_type": "markdown",
   "metadata": {},
   "source": [
    "## Normal distribution"
   ]
  },
  {
   "cell_type": "markdown",
   "metadata": {},
   "source": [
    "The histogram for the cnt column and the histogram for the casual column have different shapes.\n",
    "\n",
    "It's useful to examine the shape of a histogram because it shows us the distribution of the values.\n",
    "\n",
    "We often see histograms with a shape that is more or less symmetrical. If we draw a vertical line exactly in the middle of a symmetrical histogram, then we divide the histogram in two halves that are mirror images of one another.\n",
    "\n",
    "A histogram shows the distribution of the values, and if its shape is symmetrical, then we say we have a symmetrical distribution.\n",
    "\n",
    "One common symmetrical distribution is the normal distribution (also called Gaussian distribution)."
   ]
  },
  {
   "attachments": {
    "distribution_histogram.svg": {
     "image/svg+xml": [
      "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"
     ]
    }
   },
   "cell_type": "markdown",
   "metadata": {},
   "source": [
    "![distribution_histogram.svg](attachment:distribution_histogram.svg)"
   ]
  },
  {
   "cell_type": "code",
   "execution_count": 45,
   "metadata": {},
   "outputs": [
    {
     "data": {
      "image/png": "[encoded data removed]",
      "text/plain": [
       "<Figure size 432x288 with 1 Axes>"
      ]
     },
     "metadata": {
      "needs_background": "light"
     },
     "output_type": "display_data"
    }
   ],
   "source": [
    "plt.hist(bike_sharing['registered'])\n",
    "plt.show()"
   ]
  },
  {
   "cell_type": "markdown",
   "metadata": {},
   "source": [
    "Another symmetrical distribution we can see in practice is the uniform distribution — the values are uniformly distributed. The bars have equal height because the intervals have equal frequencies."
   ]
  },
  {
   "cell_type": "markdown",
   "metadata": {},
   "source": [
    "symmetrical distributions - If we draw a vertical line exactly in the middle of a symmetrical histogram, then we divide it into two halves that are mirror images of one another.\n",
    "\n",
    "Not all histogram shapes are symmetrical though. "
   ]
  },
  {
   "cell_type": "markdown",
   "metadata": {},
   "source": [
    "## Skewed Distributions"
   ]
  },
  {
   "cell_type": "code",
   "execution_count": 49,
   "metadata": {},
   "outputs": [
    {
     "data": {
      "image/png": "[encoded data removed]",
      "text/plain": [
       "<Figure size 432x288 with 1 Axes>"
      ]
     },
     "metadata": {
      "needs_background": "light"
     },
     "output_type": "display_data"
    }
   ],
   "source": [
    "plt.hist(bike_sharing['casual'])\n",
    "plt.show()"
   ]
  },
  {
   "cell_type": "markdown",
   "metadata": {},
   "source": [
    "If the tail points to the right, then the distribution is right skewed - the distribution of the casual column is right skewed.\n",
    "\n",
    "When the tail points to the right, it also points in the direction of positive numbers. As a consequence, right-skewed distributions are also said to have a positive skew."
   ]
  },
  {
   "attachments": {
    "m3_0.png": {
     "image/png": "[encoded data removed]"
    }
   },
   "cell_type": "markdown",
   "metadata": {},
   "source": [
    "![m3_0.png](attachment:m3_0.png)"
   ]
  },
  {
   "cell_type": "markdown",
   "metadata": {},
   "source": [
    "If the tail points to the left, then the distribution is said to be left skewed.\n",
    "\n",
    "When the tail points to the left, it also points in the direction of negative numbers (on the x-axis, the numbers decrease from right to left). For this reason, a left-skewed distribution is sometimes also said to have a negative skew.\n",
    "\n",
    "\n"
   ]
  },
  {
   "cell_type": "markdown",
   "metadata": {},
   "source": [
    "## Learnings\n",
    "\n",
    "- How to visualize frequency tables with bar plots and histograms.\n",
    "- How to plot and customize bar plots (vertical and horizontal) with Matplotlib\n",
    "- How to plot and customize histograms with Matplotlib\n",
    "- How to interpret bar plots and histograms.\n",
    "- Some common distribution types:\n",
    "        - Symmetrical: normal and uniform\n",
    "        - Skewed: left and right skewed"
   ]
  }
 ],
 "metadata": {
  "kernelspec": {
   "display_name": "Python 3",
   "language": "python",
   "name": "python3"
  },
  "language_info": {
   "codemirror_mode": {
    "name": "ipython",
    "version": 3
   },
   "file_extension": ".py",
   "mimetype": "text/x-python",
   "name": "python",
   "nbconvert_exporter": "python",
   "pygments_lexer": "ipython3",
   "version": "3.8.5"
  }
 },
 "nbformat": 4,
 "nbformat_minor": 4
}
